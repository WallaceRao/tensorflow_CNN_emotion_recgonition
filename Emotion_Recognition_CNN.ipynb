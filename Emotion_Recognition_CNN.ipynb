{
 "cells": [
  {
   "cell_type": "markdown",
   "metadata": {},
   "source": [
    "# Tensorflow CNN - Emotion Recognition\n",
    "## raoyonghui0630@gmail.com"
   ]
  },
  {
   "cell_type": "code",
   "execution_count": 2,
   "metadata": {
    "collapsed": true
   },
   "outputs": [],
   "source": [
    "import tensorflow as tf\n",
    "import numpy as np\n",
    "import matplotlib.pyplot as plt\n",
    "import cv2"
   ]
  },
  {
   "cell_type": "code",
   "execution_count": 3,
   "metadata": {
    "collapsed": true
   },
   "outputs": [],
   "source": [
    "import matplotlib\n",
    "import os \n",
    "%matplotlib inline"
   ]
  },
  {
   "cell_type": "code",
   "execution_count": 6,
   "metadata": {
    "scrolled": true
   },
   "outputs": [
    {
     "name": "stdout",
     "output_type": "stream",
     "text": [
      "Read emotion data from EmotionData/fer2013.csv\n"
     ]
    }
   ],
   "source": [
    "# Load data\n",
    "# The data is downloaded from\n",
    "# https://www.kaggle.com/c/challenges-in-representation-learning-facial-expression-recognition-challenge/data\n",
    "import pandas as pd\n",
    "dir_name = 'EmotionData'  \n",
    "file_path = dir_name + os.sep + \"fer2013.csv\"\n",
    "print \"Read emotion data from\", file_path\n",
    "\n",
    "data = pd.read_csv(file_path, dtype='a')  \n",
    "label = np.array(data['emotion'])  \n",
    "img_data = np.array(data['pixels'])  \n",
    "N_sample = label.size  \n",
    "\n",
    "# print label.size  \n",
    "Face_data = np.zeros((N_sample, 48 * 48))  \n",
    "Face_label = np.zeros((N_sample, 7), dtype=int)  \n",
    "temp = np.zeros((7), dtype= int)  \n",
    "for i in range(N_sample):  \n",
    "    x = img_data[i]  \n",
    "    x = np.fromstring(x, dtype=float, sep=' ')  \n",
    "    x_max = x.max()  \n",
    "    x = x / (x_max + 0.0001)  \n",
    "  \n",
    "    Face_data[i] = x  \n",
    "    Face_label[i, int(label[i])] = 1  \n",
    "  \n",
    "train_num = 30000  \n",
    "test_num = 5000  \n",
    "train_x = Face_data[0:train_num, :]  \n",
    "train_y = Face_label[0:train_num, :]  \n",
    "test_x = Face_data[train_num: train_num + test_num, :]  \n",
    "test_y = Face_label[train_num: train_num + test_num, :]  \n"
   ]
  },
  {
   "cell_type": "code",
   "execution_count": 7,
   "metadata": {},
   "outputs": [
    {
     "name": "stdout",
     "output_type": "stream",
     "text": [
      "Iter  0 , Testing Accuracy:  0.32380000636\n",
      "Iter  1 , Testing Accuracy:  0.359800006717\n",
      "Iter  2 , Testing Accuracy:  0.378800006941\n",
      "Iter  3 , Testing Accuracy:  0.387000007436\n",
      "Iter  4 , Testing Accuracy:  0.394400006473\n",
      "Iter  5 , Testing Accuracy:  0.398800005943\n",
      "Iter  6 , Testing Accuracy:  0.405600006372\n",
      "Iter  7 , Testing Accuracy:  0.410800006211\n",
      "Iter  8 , Testing Accuracy:  0.420600006491\n",
      "Iter  9 , Testing Accuracy:  0.421800006509\n",
      "Iter  10 , Testing Accuracy:  0.428200007066\n",
      "Iter  11 , Testing Accuracy:  0.427400006935\n",
      "Iter  12 , Testing Accuracy:  0.42800000678\n",
      "Iter  13 , Testing Accuracy:  0.428600007027\n",
      "Iter  14 , Testing Accuracy:  0.4322000072\n",
      "Iter  15 , Testing Accuracy:  0.430000006974\n",
      "Iter  16 , Testing Accuracy:  0.432000007123\n",
      "Iter  17 , Testing Accuracy:  0.432600006595\n",
      "Iter  18 , Testing Accuracy:  0.432400006577\n",
      "Iter  19 , Testing Accuracy:  0.430200007096\n"
     ]
    }
   ],
   "source": [
    "x = tf.placeholder(tf.float32,(None,2304))\n",
    "y = tf.placeholder(tf.int32,(None,7))\n",
    "\n",
    "keep_prob = tf.placeholder(tf.float32)\n",
    "\n",
    "batch_size = 10\n",
    "n_batch = len(train_x) // batch_size\n",
    "\n",
    "test_n_batch = len(test_x) // batch_size\n",
    "\n",
    "def weight_variable(shape):\n",
    "    initial = tf.truncated_normal(shape, stddev = 0.1)\n",
    "    return tf.Variable(initial)\n",
    "    \n",
    "def bias_variable(shape):\n",
    "    initial = tf.constant(0.1, shape=shape)\n",
    "    return tf.Variable(initial)\n",
    "\n",
    "def conv2d(x,W):\n",
    "    return tf.nn.conv2d(x, W, strides=[1,1,1,1],padding=\"SAME\")\n",
    "\n",
    "def max_pool_2x2(x):\n",
    "    return tf.nn.max_pool(x, ksize=[1,2,2,1], strides=[1,2,2,1], padding=\"SAME\")\n",
    "\n",
    "def max_pool_4x4(x):\n",
    "    return tf.nn.max_pool(x, ksize=[1,4,4,1], strides=[1,4,4,1], padding=\"SAME\")\n",
    "\n",
    "def max_pool_8x8(x):\n",
    "    return tf.nn.max_pool(x, ksize=[1,8,8,1], strides=[1,8,8,1], padding=\"SAME\")\n",
    "\n",
    "x_image = tf.reshape(x,[-1, 48, 48,1])\n",
    "\n",
    "W_conv1 = weight_variable([3,3,1,32])\n",
    "b_conv1 = bias_variable([32])\n",
    "\n",
    "h_conv1= tf.nn.relu(conv2d(x_image, W_conv1) + b_conv1)\n",
    "h_pool1 = max_pool_2x2(h_conv1)\n",
    "\n",
    "W_conv2 = weight_variable([3,3,32,64])\n",
    "b_conv2 = bias_variable([64])\n",
    "\n",
    "h_conv2  = tf.nn.relu(conv2d(h_pool1, W_conv2) + b_conv2)\n",
    "h_pool2 = max_pool_2x2(h_conv2)\n",
    "\n",
    "W_conv3 = weight_variable([3,3,64,64])\n",
    "b_conv3 = bias_variable([64])\n",
    "\n",
    "h_conv3  = tf.nn.relu(conv2d(h_pool2, W_conv3) + b_conv3)\n",
    "h_pool3 = max_pool_2x2(h_conv3)\n",
    "\n",
    "# the first full connection layer, with relu activation\n",
    "W_fc1 = weight_variable([64*6*6, 100])\n",
    "b_fc1 = bias_variable([100])\n",
    "\n",
    "h_pool3_flat = tf.reshape(h_pool3, [-1, 64*6*6])\n",
    "h_fc1 = tf.nn.relu(tf.matmul(h_pool3_flat, W_fc1) + b_fc1)\n",
    "\n",
    "\n",
    "# the second full connection layer, with softmax activation\n",
    "W_fc2 = weight_variable([100, 7])\n",
    "b_fc2 = bias_variable([7])\n",
    "\n",
    "prediction = tf.nn.softmax(tf.matmul(h_fc1,W_fc2) + b_fc2)\n",
    "\n",
    "cross_entropy = tf.reduce_mean(tf.nn.softmax_cross_entropy_with_logits(labels=y,logits=prediction))\n",
    "\n",
    "train_step = tf.train.AdamOptimizer(0.0001).minimize(cross_entropy)\n",
    "correct_prediction = tf.equal(tf.argmax(prediction,1), tf.argmax(y,1)) \n",
    "\n",
    "accuracy = tf.reduce_mean(tf.cast(correct_prediction,tf.float32))\n",
    "\n",
    "with tf.Session() as sess:\n",
    "    sess.run(tf.global_variables_initializer())\n",
    "    for epoch in range(20):\n",
    "        for batch in range(n_batch):\n",
    "            batch_xs = train_x[batch_size * batch: batch_size * batch + batch_size]\n",
    "            batch_ys = train_y[batch_size * batch: batch_size * batch + batch_size]\n",
    "            sess.run(train_step,feed_dict ={x:batch_xs, y:batch_ys, keep_prob:1.0})\n",
    "        acc_array = []\n",
    "        for batch in range(test_n_batch):\n",
    "            batch_xs = test_x[batch_size * batch: batch_size * batch + batch_size]\n",
    "            batch_ys = test_y[batch_size * batch: batch_size * batch + batch_size]\n",
    "            acc = sess.run(accuracy,feed_dict ={x:batch_xs, y:batch_ys, keep_prob:1.0})\n",
    "            acc_array.append(acc)\n",
    "        print \"Iter \", str(epoch), \", Testing Accuracy: \", str(sum(acc_array) / float(len(acc_array)))\n",
    "\n",
    "                "
   ]
  },
  {
   "cell_type": "code",
   "execution_count": 8,
   "metadata": {},
   "outputs": [
    {
     "data": {
      "text/plain": [
       "<matplotlib.image.AxesImage at 0x7f08ad748b50>"
      ]
     },
     "execution_count": 8,
     "metadata": {},
     "output_type": "execute_result"
    },
    {
     "data": {
      "image/png": "[encoded data removed]",
      "text/plain": [
       "<matplotlib.figure.Figure at 0x7f08a8b3d810>"
      ]
     },
     "metadata": {},
     "output_type": "display_data"
    }
   ],
   "source": [
    "# Show one image\n",
    "array = train_x[10].reshape(48,48)\n",
    "plt.imshow(array)"
   ]
  },
  {
   "cell_type": "code",
   "execution_count": null,
   "metadata": {
    "collapsed": true
   },
   "outputs": [],
   "source": []
  }
 ],
 "metadata": {
  "kernelspec": {
   "display_name": "Python 2",
   "language": "python",
   "name": "python2"
  },
  "language_info": {
   "codemirror_mode": {
    "name": "ipython",
    "version": 2
   },
   "file_extension": ".py",
   "mimetype": "text/x-python",
   "name": "python",
   "nbconvert_exporter": "python",
   "pygments_lexer": "ipython2",
   "version": "2.7.13"
  }
 },
 "nbformat": 4,
 "nbformat_minor": 2
}
